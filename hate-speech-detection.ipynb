{
 "cells": [
  {
   "cell_type": "markdown",
   "id": "25aceda5",
   "metadata": {},
   "source": [
    "# Introduction"
   ]
  },
  {
   "cell_type": "markdown",
   "id": "64188699",
   "metadata": {},
   "source": [
    "This Jupyter Notebook contains the final realization of a school project related to Natural Language Processing (NLP). More specifically, a Transformer-based architecture was utilized to classify text as normal, offensive, or hateful, using comments from 4chan's /pol/ board as data to classify. \n",
    "\n",
    "As this Notebook contains the final code necessary to properly utilize the chosen model and classify textual input, any steps related to preparation, cleaning, or the gathering of data are omitted. Comments are provided wherever necessary, but how each component of the Transformer model functions is not expanded upon in this document."
   ]
  },
  {
   "cell_type": "markdown",
   "id": "2f7b5c1b",
   "metadata": {},
   "source": [
    "All NLP-specific imports, the model used, the docs consulted, and the courses followed originate from Hugging Face 🤗 (https://huggingface.co/)."
   ]
  },
  {
   "cell_type": "markdown",
   "id": "85a25d27",
   "metadata": {},
   "source": [
    "# Imports"
   ]
  },
  {
   "cell_type": "code",
   "execution_count": 1,
   "id": "41528808",
   "metadata": {
    "ExecuteTime": {
     "end_time": "2022-08-03T13:27:05.892242Z",
     "start_time": "2022-08-03T13:27:03.856388Z"
    }
   },
   "outputs": [],
   "source": [
    "# General-purpose imports\n",
    "import pandas as pd\n",
    "import numpy as np\n",
    "import matplotlib.pyplot as plt\n",
    "import math\n",
    "import sys\n",
    "from datetime import datetime\n",
    "from sklearn.model_selection import train_test_split"
   ]
  },
  {
   "cell_type": "code",
   "execution_count": 2,
   "id": "e1a8e25f",
   "metadata": {
    "ExecuteTime": {
     "end_time": "2022-08-03T13:27:07.541441Z",
     "start_time": "2022-08-03T13:27:05.897239Z"
    }
   },
   "outputs": [],
   "source": [
    "# NLP-specific imports\n",
    "from transformers import AutoTokenizer, AutoModelForSequenceClassification\n",
    "from transformers import Trainer, TrainingArguments\n",
    "from datasets import list_metrics, load_metric\n",
    "import torch"
   ]
  },
  {
   "cell_type": "code",
   "execution_count": 3,
   "id": "6522a4fa",
   "metadata": {
    "ExecuteTime": {
     "end_time": "2022-08-03T13:27:09.006043Z",
     "start_time": "2022-08-03T13:27:07.543444Z"
    }
   },
   "outputs": [],
   "source": [
    "# Loading of the t-davidson and /pol/ datasets\n",
    "tdavidson = pd.read_csv('data/tdavidson_prepared.csv', index_col = [0])\n",
    "pol = pd.read_csv('data/pol_prepared.csv')"
   ]
  },
  {
   "cell_type": "code",
   "execution_count": 4,
   "id": "283b4909",
   "metadata": {
    "ExecuteTime": {
     "end_time": "2022-08-03T13:27:12.988434Z",
     "start_time": "2022-08-03T13:27:09.010027Z"
    }
   },
   "outputs": [],
   "source": [
    "# Loading of metrics for model evaluation\n",
    "metric_acc = load_metric('accuracy')\n",
    "metric_f1 = load_metric('f1')\n",
    "metric_auc = load_metric('roc_auc', \"multiclass\")"
   ]
  },
  {
   "cell_type": "markdown",
   "id": "0bb01109",
   "metadata": {},
   "source": [
    "# Implementation"
   ]
  },
  {
   "cell_type": "markdown",
   "id": "d5b8a4ef",
   "metadata": {},
   "source": [
    "### Untrained Model"
   ]
  },
  {
   "cell_type": "code",
   "execution_count": 5,
   "id": "8e614393",
   "metadata": {
    "ExecuteTime": {
     "end_time": "2022-08-03T13:27:29.121956Z",
     "start_time": "2022-08-03T13:27:19.307555Z"
    }
   },
   "outputs": [],
   "source": [
    "# Loading of the HateXplain Transformer model and its tokenizer\n",
    "checkpoint = \"Hate-speech-CNERG/bert-base-uncased-hatexplain\"\n",
    "tokenizer = AutoTokenizer.from_pretrained(checkpoint)\n",
    "model = AutoModelForSequenceClassification.from_pretrained(checkpoint)"
   ]
  },
  {
   "cell_type": "code",
   "execution_count": 6,
   "id": "cf6dc098",
   "metadata": {
    "ExecuteTime": {
     "end_time": "2022-08-03T13:27:29.137948Z",
     "start_time": "2022-08-03T13:27:29.124956Z"
    }
   },
   "outputs": [
    {
     "data": {
      "text/plain": [
       "{0: 'hate speech', 1: 'normal', 2: 'offensive'}"
      ]
     },
     "execution_count": 6,
     "metadata": {},
     "output_type": "execute_result"
    }
   ],
   "source": [
    "# Confirmation of the model's labels\n",
    "model.config.id2label"
   ]
  },
  {
   "cell_type": "code",
   "execution_count": 7,
   "id": "5e385b2c",
   "metadata": {
    "ExecuteTime": {
     "end_time": "2022-08-03T13:27:46.304645Z",
     "start_time": "2022-08-03T13:27:46.272674Z"
    }
   },
   "outputs": [],
   "source": [
    "# Splitting of the t-davidson data into training, testing, and validation sets, according to a 60:20:20 split\n",
    "# The sequences and labels are separated into different variables\n",
    "train_texts, test_texts, train_labels, test_labels = train_test_split(tdavidson['comment'], \n",
    "                                                                      tdavidson['label'], \n",
    "                                                                      test_size=0.2,\n",
    "                                                                      stratify=tdavidson['label'])\n",
    "\n",
    "train_texts, val_texts, train_labels, val_labels = train_test_split(train_texts, \n",
    "                                                                    train_labels, \n",
    "                                                                    test_size=0.25, \n",
    "                                                                    stratify=train_labels)"
   ]
  },
  {
   "cell_type": "code",
   "execution_count": 8,
   "id": "26082a59",
   "metadata": {
    "ExecuteTime": {
     "end_time": "2022-08-03T13:27:46.848651Z",
     "start_time": "2022-08-03T13:27:46.836656Z"
    }
   },
   "outputs": [],
   "source": [
    "# As Transformer models are very heavy on memory, only 250 sequences are evaluated at a time\n",
    "testcomments = test_texts.tolist()[:250]\n",
    "testlabels = test_labels.tolist()[:250]"
   ]
  },
  {
   "cell_type": "code",
   "execution_count": 9,
   "id": "96633a16",
   "metadata": {
    "ExecuteTime": {
     "end_time": "2022-08-03T13:28:05.145650Z",
     "start_time": "2022-08-03T13:27:50.693075Z"
    }
   },
   "outputs": [
    {
     "data": {
      "text/html": [
       "<div>\n",
       "<style scoped>\n",
       "    .dataframe tbody tr th:only-of-type {\n",
       "        vertical-align: middle;\n",
       "    }\n",
       "\n",
       "    .dataframe tbody tr th {\n",
       "        vertical-align: top;\n",
       "    }\n",
       "\n",
       "    .dataframe thead th {\n",
       "        text-align: right;\n",
       "    }\n",
       "</style>\n",
       "<table border=\"1\" class=\"dataframe\">\n",
       "  <thead>\n",
       "    <tr style=\"text-align: right;\">\n",
       "      <th></th>\n",
       "      <th>hate_speech</th>\n",
       "      <th>normal</th>\n",
       "      <th>offensive</th>\n",
       "    </tr>\n",
       "  </thead>\n",
       "  <tbody>\n",
       "    <tr>\n",
       "      <th>0</th>\n",
       "      <td>3.750997</td>\n",
       "      <td>53.927589</td>\n",
       "      <td>42.321411</td>\n",
       "    </tr>\n",
       "    <tr>\n",
       "      <th>1</th>\n",
       "      <td>4.571366</td>\n",
       "      <td>40.656158</td>\n",
       "      <td>54.772480</td>\n",
       "    </tr>\n",
       "    <tr>\n",
       "      <th>2</th>\n",
       "      <td>7.454917</td>\n",
       "      <td>29.999557</td>\n",
       "      <td>62.545521</td>\n",
       "    </tr>\n",
       "    <tr>\n",
       "      <th>3</th>\n",
       "      <td>4.431598</td>\n",
       "      <td>55.128223</td>\n",
       "      <td>40.440174</td>\n",
       "    </tr>\n",
       "    <tr>\n",
       "      <th>4</th>\n",
       "      <td>12.026351</td>\n",
       "      <td>56.208824</td>\n",
       "      <td>31.764824</td>\n",
       "    </tr>\n",
       "    <tr>\n",
       "      <th>...</th>\n",
       "      <td>...</td>\n",
       "      <td>...</td>\n",
       "      <td>...</td>\n",
       "    </tr>\n",
       "    <tr>\n",
       "      <th>245</th>\n",
       "      <td>5.042333</td>\n",
       "      <td>36.044281</td>\n",
       "      <td>58.913387</td>\n",
       "    </tr>\n",
       "    <tr>\n",
       "      <th>246</th>\n",
       "      <td>3.357765</td>\n",
       "      <td>15.919551</td>\n",
       "      <td>80.722687</td>\n",
       "    </tr>\n",
       "    <tr>\n",
       "      <th>247</th>\n",
       "      <td>5.598469</td>\n",
       "      <td>31.564983</td>\n",
       "      <td>62.836552</td>\n",
       "    </tr>\n",
       "    <tr>\n",
       "      <th>248</th>\n",
       "      <td>4.888644</td>\n",
       "      <td>55.005531</td>\n",
       "      <td>40.105824</td>\n",
       "    </tr>\n",
       "    <tr>\n",
       "      <th>249</th>\n",
       "      <td>7.510600</td>\n",
       "      <td>29.448307</td>\n",
       "      <td>63.041092</td>\n",
       "    </tr>\n",
       "  </tbody>\n",
       "</table>\n",
       "<p>250 rows × 3 columns</p>\n",
       "</div>"
      ],
      "text/plain": [
       "     hate_speech     normal  offensive\n",
       "0       3.750997  53.927589  42.321411\n",
       "1       4.571366  40.656158  54.772480\n",
       "2       7.454917  29.999557  62.545521\n",
       "3       4.431598  55.128223  40.440174\n",
       "4      12.026351  56.208824  31.764824\n",
       "..           ...        ...        ...\n",
       "245     5.042333  36.044281  58.913387\n",
       "246     3.357765  15.919551  80.722687\n",
       "247     5.598469  31.564983  62.836552\n",
       "248     4.888644  55.005531  40.105824\n",
       "249     7.510600  29.448307  63.041092\n",
       "\n",
       "[250 rows x 3 columns]"
      ]
     },
     "execution_count": 9,
     "metadata": {},
     "output_type": "execute_result"
    }
   ],
   "source": [
    "# Implementation of the pre-trained model, without any improvements\n",
    "tokens = tokenizer(testcomments, padding=True, truncation=True, return_tensors=\"pt\")\n",
    "output = model(**tokens)\n",
    "predictions = torch.nn.functional.softmax(output.logits, dim=-1)\n",
    "modelresults = pd.DataFrame(predictions.detach().numpy() * 100, columns = ['hate_speech','normal','offensive'])\n",
    "modelresults"
   ]
  },
  {
   "cell_type": "code",
   "execution_count": 10,
   "id": "e4ad1c6a",
   "metadata": {
    "ExecuteTime": {
     "end_time": "2022-08-03T13:28:05.160643Z",
     "start_time": "2022-08-03T13:28:05.149648Z"
    }
   },
   "outputs": [],
   "source": [
    "# Creation of a new column that contains, for each row, the column name which had the highest percentage value\n",
    "modelresults['label'] = modelresults.idxmax(axis=1)"
   ]
  },
  {
   "cell_type": "code",
   "execution_count": 11,
   "id": "9e4a91ca",
   "metadata": {
    "ExecuteTime": {
     "end_time": "2022-08-03T13:28:05.175633Z",
     "start_time": "2022-08-03T13:28:05.163640Z"
    }
   },
   "outputs": [],
   "source": [
    "# Transformation of the new column's label contents to their related numerical values\n",
    "modelresults.loc[modelresults['label'] == 'hate_speech', 'label'] = 0\n",
    "modelresults.loc[modelresults['label'] == 'normal', 'label'] = 1\n",
    "modelresults.loc[modelresults['label'] == 'offensive', 'label'] = 2"
   ]
  },
  {
   "cell_type": "code",
   "execution_count": 12,
   "id": "2ef50f8c",
   "metadata": {
    "ExecuteTime": {
     "end_time": "2022-08-03T13:28:05.270581Z",
     "start_time": "2022-08-03T13:28:05.180631Z"
    }
   },
   "outputs": [
    {
     "name": "stdout",
     "output_type": "stream",
     "text": [
      "{'accuracy': 0.644}\n",
      "{'f1': 0.5175662404909244}\n",
      "{'roc_auc': 0.8437027269244548}\n"
     ]
    }
   ],
   "source": [
    "# Usage of the previously-loaded metrics to evaluate the model\n",
    "print(metric_acc.compute(predictions = modelresults['label'], references = testlabels))\n",
    "print(metric_f1.compute(predictions = modelresults['label'], references = testlabels, average=\"macro\"))\n",
    "print(metric_auc.compute(prediction_scores = predictions, references = testlabels, multi_class='ovr'))"
   ]
  },
  {
   "cell_type": "code",
   "execution_count": 13,
   "id": "87de8a4e",
   "metadata": {
    "ExecuteTime": {
     "end_time": "2022-08-03T13:28:06.096692Z",
     "start_time": "2022-08-03T13:28:05.273578Z"
    }
   },
   "outputs": [],
   "source": [
    "# Deletion of the model-related variables to free up memory\n",
    "del tokens, output, predictions, modelresults"
   ]
  },
  {
   "cell_type": "markdown",
   "id": "2bdbc516",
   "metadata": {},
   "source": [
    "### Fine-tuning Process"
   ]
  },
  {
   "cell_type": "code",
   "execution_count": 14,
   "id": "c8150a99",
   "metadata": {
    "ExecuteTime": {
     "end_time": "2022-08-03T13:28:20.315015Z",
     "start_time": "2022-08-03T13:28:18.806874Z"
    }
   },
   "outputs": [],
   "source": [
    "# Creation of encoding through tokenization for the creation of a Dataset object\n",
    "train_encodings = tokenizer(train_texts.tolist(), truncation = True, padding = True)\n",
    "val_encodings = tokenizer(val_texts.tolist(), truncation = True, padding = True)\n",
    "test_encodings = tokenizer(test_texts.tolist(), truncation = True, padding = True)"
   ]
  },
  {
   "cell_type": "code",
   "execution_count": 15,
   "id": "b97cb337",
   "metadata": {
    "ExecuteTime": {
     "end_time": "2022-08-03T13:28:20.330016Z",
     "start_time": "2022-08-03T13:28:20.317012Z"
    }
   },
   "outputs": [],
   "source": [
    "# Usage of PyTorch to create a Dataset object to be used for the fine-tuning process of the model\n",
    "# Encoding and their related labels that were previously separated are again unified\n",
    "class TFDataset(torch.utils.data.Dataset):\n",
    "    def __init__(self, encodings, labels):\n",
    "        self.encodings = encodings\n",
    "        self.labels = labels\n",
    "\n",
    "    def __getitem__(self, idx):\n",
    "        item = {key: torch.tensor(val[idx]) for key, val in self.encodings.items()}\n",
    "        item['labels'] = torch.tensor(self.labels[idx])\n",
    "        return item\n",
    "\n",
    "    def __len__(self):\n",
    "        return len(self.labels)\n",
    "\n",
    "train_dataset = TFDataset(train_encodings, train_labels.tolist())\n",
    "val_dataset = TFDataset(val_encodings, val_labels.tolist())\n",
    "test_dataset = TFDataset(test_encodings, test_labels.tolist())"
   ]
  },
  {
   "cell_type": "code",
   "execution_count": null,
   "id": "d0edb55a",
   "metadata": {},
   "outputs": [],
   "source": [
    "### Don't randomly run this code! ###\n",
    "\n",
    "# Training process of the model, using the training and validation datasets\n",
    "# The process is very lengthy and may take several hours to complete\n",
    "training_args = TrainingArguments(\n",
    "    output_dir = './results',              # output directory\n",
    "    num_train_epochs = 3,                  # total number of training epochs\n",
    "    per_device_train_batch_size = 16,      # batch size per device during training\n",
    "    per_device_eval_batch_size = 64,       # batch size for evaluation\n",
    "    warmup_steps = 500,                    # number of warmup steps for learning rate scheduler\n",
    "    weight_decay = 0.01,                   # strength of weight decay\n",
    "    logging_dir = './logs',                # directory for storing logs\n",
    "    logging_steps = 10,\n",
    ")\n",
    "\n",
    "trainer = Trainer(\n",
    "    model = model,                         # the instantiated 🤗 Transformers model to be trained\n",
    "    args = training_args,                  # training arguments, defined above\n",
    "    train_dataset = train_dataset,         # training dataset\n",
    "    eval_dataset = val_dataset             # evaluation dataset\n",
    ")\n",
    "\n",
    "trainer.train()"
   ]
  },
  {
   "cell_type": "code",
   "execution_count": null,
   "id": "158c39fb",
   "metadata": {},
   "outputs": [],
   "source": [
    "### Don't randomly run this code! ###\n",
    "\n",
    "# Saving of the trained model in the results folder to not waste any work\n",
    "trainer.save_model('./results')"
   ]
  },
  {
   "cell_type": "markdown",
   "id": "72205d97",
   "metadata": {},
   "source": [
    "### Trained Model"
   ]
  },
  {
   "cell_type": "code",
   "execution_count": 16,
   "id": "defced88",
   "metadata": {
    "ExecuteTime": {
     "end_time": "2022-08-03T13:28:29.348662Z",
     "start_time": "2022-08-03T13:28:28.239964Z"
    }
   },
   "outputs": [],
   "source": [
    "# Loading of the improved HateXplain Transformer model from the results folder\n",
    "trainedmodel = AutoModelForSequenceClassification.from_pretrained('./results')"
   ]
  },
  {
   "cell_type": "code",
   "execution_count": 17,
   "id": "22730211",
   "metadata": {
    "ExecuteTime": {
     "end_time": "2022-08-03T13:28:29.364652Z",
     "start_time": "2022-08-03T13:28:29.352659Z"
    }
   },
   "outputs": [
    {
     "data": {
      "text/plain": [
       "{0: 'hate speech', 1: 'normal', 2: 'offensive'}"
      ]
     },
     "execution_count": 17,
     "metadata": {},
     "output_type": "execute_result"
    }
   ],
   "source": [
    "# Reconfirmation of the model's labels\n",
    "model.config.id2label"
   ]
  },
  {
   "cell_type": "code",
   "execution_count": 18,
   "id": "b14f3739",
   "metadata": {
    "ExecuteTime": {
     "end_time": "2022-08-03T13:28:44.578769Z",
     "start_time": "2022-08-03T13:28:29.689738Z"
    }
   },
   "outputs": [
    {
     "data": {
      "text/html": [
       "<div>\n",
       "<style scoped>\n",
       "    .dataframe tbody tr th:only-of-type {\n",
       "        vertical-align: middle;\n",
       "    }\n",
       "\n",
       "    .dataframe tbody tr th {\n",
       "        vertical-align: top;\n",
       "    }\n",
       "\n",
       "    .dataframe thead th {\n",
       "        text-align: right;\n",
       "    }\n",
       "</style>\n",
       "<table border=\"1\" class=\"dataframe\">\n",
       "  <thead>\n",
       "    <tr style=\"text-align: right;\">\n",
       "      <th></th>\n",
       "      <th>hate_speech</th>\n",
       "      <th>normal</th>\n",
       "      <th>offensive</th>\n",
       "    </tr>\n",
       "  </thead>\n",
       "  <tbody>\n",
       "    <tr>\n",
       "      <th>0</th>\n",
       "      <td>0.112522</td>\n",
       "      <td>0.062075</td>\n",
       "      <td>99.825401</td>\n",
       "    </tr>\n",
       "    <tr>\n",
       "      <th>1</th>\n",
       "      <td>0.326631</td>\n",
       "      <td>0.196668</td>\n",
       "      <td>99.476707</td>\n",
       "    </tr>\n",
       "    <tr>\n",
       "      <th>2</th>\n",
       "      <td>1.077055</td>\n",
       "      <td>0.057592</td>\n",
       "      <td>98.865356</td>\n",
       "    </tr>\n",
       "    <tr>\n",
       "      <th>3</th>\n",
       "      <td>0.299764</td>\n",
       "      <td>0.017790</td>\n",
       "      <td>99.682449</td>\n",
       "    </tr>\n",
       "    <tr>\n",
       "      <th>4</th>\n",
       "      <td>0.152730</td>\n",
       "      <td>99.659882</td>\n",
       "      <td>0.187388</td>\n",
       "    </tr>\n",
       "    <tr>\n",
       "      <th>...</th>\n",
       "      <td>...</td>\n",
       "      <td>...</td>\n",
       "      <td>...</td>\n",
       "    </tr>\n",
       "    <tr>\n",
       "      <th>245</th>\n",
       "      <td>0.209567</td>\n",
       "      <td>0.031009</td>\n",
       "      <td>99.759415</td>\n",
       "    </tr>\n",
       "    <tr>\n",
       "      <th>246</th>\n",
       "      <td>0.299153</td>\n",
       "      <td>0.071754</td>\n",
       "      <td>99.629089</td>\n",
       "    </tr>\n",
       "    <tr>\n",
       "      <th>247</th>\n",
       "      <td>0.168858</td>\n",
       "      <td>0.030870</td>\n",
       "      <td>99.800270</td>\n",
       "    </tr>\n",
       "    <tr>\n",
       "      <th>248</th>\n",
       "      <td>0.184320</td>\n",
       "      <td>0.029268</td>\n",
       "      <td>99.786415</td>\n",
       "    </tr>\n",
       "    <tr>\n",
       "      <th>249</th>\n",
       "      <td>0.189489</td>\n",
       "      <td>0.023742</td>\n",
       "      <td>99.786774</td>\n",
       "    </tr>\n",
       "  </tbody>\n",
       "</table>\n",
       "<p>250 rows × 3 columns</p>\n",
       "</div>"
      ],
      "text/plain": [
       "     hate_speech     normal  offensive\n",
       "0       0.112522   0.062075  99.825401\n",
       "1       0.326631   0.196668  99.476707\n",
       "2       1.077055   0.057592  98.865356\n",
       "3       0.299764   0.017790  99.682449\n",
       "4       0.152730  99.659882   0.187388\n",
       "..           ...        ...        ...\n",
       "245     0.209567   0.031009  99.759415\n",
       "246     0.299153   0.071754  99.629089\n",
       "247     0.168858   0.030870  99.800270\n",
       "248     0.184320   0.029268  99.786415\n",
       "249     0.189489   0.023742  99.786774\n",
       "\n",
       "[250 rows x 3 columns]"
      ]
     },
     "execution_count": 18,
     "metadata": {},
     "output_type": "execute_result"
    }
   ],
   "source": [
    "# Implementation of the improved model\n",
    "trainedtokens = tokenizer(testcomments, padding=True, truncation=True, return_tensors=\"pt\")\n",
    "trainedoutput = trainedmodel(**trainedtokens)\n",
    "trainedpredictions = torch.nn.functional.softmax(trainedoutput.logits, dim=-1)\n",
    "trainedmodelresults = pd.DataFrame(trainedpredictions.detach().numpy() * 100, columns = ['hate_speech','normal','offensive'])\n",
    "trainedmodelresults"
   ]
  },
  {
   "cell_type": "code",
   "execution_count": 19,
   "id": "a41c0d24",
   "metadata": {
    "ExecuteTime": {
     "end_time": "2022-08-03T13:28:44.594208Z",
     "start_time": "2022-08-03T13:28:44.582215Z"
    }
   },
   "outputs": [],
   "source": [
    "# Creation of a new column that contains, for each row, the column name which had the highest percentage value\n",
    "trainedmodelresults['label'] = trainedmodelresults.idxmax(axis=1)"
   ]
  },
  {
   "cell_type": "code",
   "execution_count": 20,
   "id": "6c3a0bb5",
   "metadata": {
    "ExecuteTime": {
     "end_time": "2022-08-03T13:28:44.610199Z",
     "start_time": "2022-08-03T13:28:44.597206Z"
    }
   },
   "outputs": [],
   "source": [
    "# Transformation of the new column's label contents to their related numerical values\n",
    "trainedmodelresults.loc[trainedmodelresults['label'] == 'hate_speech', 'label'] = 0\n",
    "trainedmodelresults.loc[trainedmodelresults['label'] == 'normal', 'label'] = 1\n",
    "trainedmodelresults.loc[trainedmodelresults['label'] == 'offensive', 'label'] = 2"
   ]
  },
  {
   "cell_type": "code",
   "execution_count": 21,
   "id": "adcf9c66",
   "metadata": {
    "ExecuteTime": {
     "end_time": "2022-08-03T13:28:44.672494Z",
     "start_time": "2022-08-03T13:28:44.614197Z"
    }
   },
   "outputs": [
    {
     "name": "stdout",
     "output_type": "stream",
     "text": [
      "{'accuracy': 0.968}\n",
      "{'f1': 0.9382628938968488}\n",
      "{'roc_auc': 0.9824880601815332}\n"
     ]
    }
   ],
   "source": [
    "# Usage of the previously-loaded metrics to evaluate the model\n",
    "print(metric_acc.compute(predictions = trainedmodelresults['label'], references = testlabels))\n",
    "print(metric_f1.compute(predictions = trainedmodelresults['label'], references = testlabels, average=\"macro\"))\n",
    "print(metric_auc.compute(prediction_scores = trainedpredictions, references = testlabels, multi_class='ovr'))"
   ]
  },
  {
   "cell_type": "code",
   "execution_count": 22,
   "id": "90c290c9",
   "metadata": {
    "ExecuteTime": {
     "end_time": "2022-08-03T13:28:45.404016Z",
     "start_time": "2022-08-03T13:28:44.675492Z"
    }
   },
   "outputs": [],
   "source": [
    "# Deletion of the model-related variables to free up memory\n",
    "del trainedtokens, trainedoutput, trainedpredictions, trainedmodelresults"
   ]
  },
  {
   "cell_type": "markdown",
   "id": "87ec1042",
   "metadata": {},
   "source": [
    "### Interjection"
   ]
  },
  {
   "cell_type": "markdown",
   "id": "86725ae4",
   "metadata": {},
   "source": [
    "At this point, both the pre-trained model and its improved version have been tried and tested on the same testing data. The original model with no augmentations performed poorly. The metrics indicated a low accuracy, and from observing the results DataFrame it was visible that the percentage values behind the choices weren't very high either. This means that slight deviations in input could easily tilt the resulting labels in another direction, making the model untrustworthy.\n",
    "\n",
    "The improved version of the model boasts high scores with the metrics, and it's also very decisive when making a labelling choice. In comparison, the original and the improved versions are like night and day, making the improved version a succesful and trustworthy candidate for the labelling of the /pol/ data."
   ]
  },
  {
   "cell_type": "markdown",
   "id": "b32331f7",
   "metadata": {},
   "source": [
    "### Labelling /pol/ Data"
   ]
  },
  {
   "cell_type": "code",
   "execution_count": null,
   "id": "c684e1e0",
   "metadata": {},
   "outputs": [],
   "source": [
    "### Don't randomly run this code! ###\n",
    "\n",
    "# As labelling 250 sequences is already very costly in terms of memory, labelling ~450K sequences is unfeasible\n",
    "# This loop takes batches of 100 sequences every iteration and saves them in a CSV file for later usage\n",
    "# Memory is freed up between each iteration\n",
    "# The process is very lengthy and may take a full day to complete\n",
    "loops = math.ceil(pol.shape[0] / 100)\n",
    "for i in range(loops):\n",
    "    start = i * 100\n",
    "    batch = pol[start: start + 100]\n",
    "    \n",
    "    tokens = tokenizer(batch['comment'].tolist(), padding=True, truncation=True, return_tensors=\"pt\")\n",
    "    output = trainedmodel(**tokens)\n",
    "    predictions = torch.nn.functional.softmax(output.logits, dim = -1)\n",
    "    modelresults = pd.DataFrame(predictions.detach().numpy() * 100, columns = ['hate_speech','normal','offensive'])\n",
    "\n",
    "    modelresults['label'] = modelresults.idxmax(axis=1)\n",
    "    modelresults.loc[modelresults['label'] == 'hate_speech', 'label'] = 0\n",
    "    modelresults.loc[modelresults['label'] == 'normal', 'label'] = 1\n",
    "    modelresults.loc[modelresults['label'] == 'offensive', 'label'] = 2\n",
    "    modelresults['post_number'] = pol['post_number'][start: start + 100].tolist()\n",
    "\n",
    "    modelresults.to_csv('pol_labels.csv', mode = 'a', index = False, header = False)\n",
    "\n",
    "    del batch, tokens, output, predictions, modelresults\n",
    "    \n",
    "    sys.stdout.write(f\"\\r loop:{i + 1}/{loops}\")\n",
    "    sys.stdout.flush()"
   ]
  },
  {
   "cell_type": "code",
   "execution_count": 23,
   "id": "ff2951a8",
   "metadata": {
    "ExecuteTime": {
     "end_time": "2022-08-03T13:29:05.837770Z",
     "start_time": "2022-08-03T13:29:05.581899Z"
    }
   },
   "outputs": [],
   "source": [
    "# Loading of the /pol/ labels that were saved in a CSV file\n",
    "pollabels = pd.read_csv(\"data/pol_labels.csv\")"
   ]
  },
  {
   "cell_type": "code",
   "execution_count": 24,
   "id": "3b638c7a",
   "metadata": {
    "ExecuteTime": {
     "end_time": "2022-08-03T13:29:08.853058Z",
     "start_time": "2022-08-03T13:29:08.839056Z"
    }
   },
   "outputs": [
    {
     "name": "stdout",
     "output_type": "stream",
     "text": [
      "455503\n",
      "455503\n"
     ]
    }
   ],
   "source": [
    "# Confirming that both datasets have the same shape and that no data is missing\n",
    "print(pol.shape[0])\n",
    "print(pollabels.shape[0])"
   ]
  },
  {
   "cell_type": "code",
   "execution_count": 25,
   "id": "7e669cb1",
   "metadata": {
    "ExecuteTime": {
     "end_time": "2022-08-03T13:29:12.129671Z",
     "start_time": "2022-08-03T13:29:11.882739Z"
    }
   },
   "outputs": [],
   "source": [
    "# Merging of the /pol/ dataset and the corresponding labels, based on a common column containing unique post numbers\n",
    "polmerged = pd.merge(pol, pollabels, on='post_number', how='left')"
   ]
  },
  {
   "cell_type": "code",
   "execution_count": null,
   "id": "5139df92",
   "metadata": {},
   "outputs": [],
   "source": [
    "### Don't randomly run this code! ###\n",
    "\n",
    "# Saving of the merged data for later usage\n",
    "polmerged.to_csv('data/pol_final.csv', index=False)"
   ]
  },
  {
   "cell_type": "markdown",
   "id": "813f97f5",
   "metadata": {},
   "source": [
    "# Short Exploration"
   ]
  },
  {
   "cell_type": "markdown",
   "id": "7098f249",
   "metadata": {},
   "source": [
    "A short exploration of the labelled /pol/ dataset to show volume of speech per country, and per label. A more detailed exploration is done through the creation of a PowerBI dashboard, not supplied in this repository."
   ]
  },
  {
   "cell_type": "code",
   "execution_count": 26,
   "id": "f4515d3e",
   "metadata": {
    "ExecuteTime": {
     "end_time": "2022-08-03T13:29:18.027445Z",
     "start_time": "2022-08-03T13:29:16.467027Z"
    }
   },
   "outputs": [],
   "source": [
    "# Loading of the labelled /pol/ dataset\n",
    "polfinal = pd.read_csv('data/pol_final.csv')"
   ]
  },
  {
   "cell_type": "code",
   "execution_count": 27,
   "id": "7fce4f55",
   "metadata": {
    "ExecuteTime": {
     "end_time": "2022-08-03T13:29:18.058421Z",
     "start_time": "2022-08-03T13:29:18.031426Z"
    }
   },
   "outputs": [
    {
     "data": {
      "text/html": [
       "<div>\n",
       "<style scoped>\n",
       "    .dataframe tbody tr th:only-of-type {\n",
       "        vertical-align: middle;\n",
       "    }\n",
       "\n",
       "    .dataframe tbody tr th {\n",
       "        vertical-align: top;\n",
       "    }\n",
       "\n",
       "    .dataframe thead th {\n",
       "        text-align: right;\n",
       "    }\n",
       "</style>\n",
       "<table border=\"1\" class=\"dataframe\">\n",
       "  <thead>\n",
       "    <tr style=\"text-align: right;\">\n",
       "      <th></th>\n",
       "      <th>post_number</th>\n",
       "      <th>thread_number</th>\n",
       "      <th>timestamp</th>\n",
       "      <th>country</th>\n",
       "      <th>country_name</th>\n",
       "      <th>comment</th>\n",
       "      <th>reply_count</th>\n",
       "      <th>hate_speech</th>\n",
       "      <th>normal</th>\n",
       "      <th>offensive</th>\n",
       "      <th>label</th>\n",
       "    </tr>\n",
       "  </thead>\n",
       "  <tbody>\n",
       "    <tr>\n",
       "      <th>0</th>\n",
       "      <td>379119380</td>\n",
       "      <td>0</td>\n",
       "      <td>2022-05-23 21:30:25</td>\n",
       "      <td>CA</td>\n",
       "      <td>Canada</td>\n",
       "      <td>Casper, WYOMINGSat, May 28, 20224:00 pm MDT, 6...</td>\n",
       "      <td>199.0</td>\n",
       "      <td>0.154330</td>\n",
       "      <td>99.736800</td>\n",
       "      <td>0.108877</td>\n",
       "      <td>1</td>\n",
       "    </tr>\n",
       "    <tr>\n",
       "      <th>1</th>\n",
       "      <td>379119622</td>\n",
       "      <td>379119380</td>\n",
       "      <td>2022-05-23 21:32:03</td>\n",
       "      <td>US</td>\n",
       "      <td>United States</td>\n",
       "      <td>Attended by 10's of people</td>\n",
       "      <td>0.0</td>\n",
       "      <td>0.318119</td>\n",
       "      <td>98.489525</td>\n",
       "      <td>1.192354</td>\n",
       "      <td>1</td>\n",
       "    </tr>\n",
       "    <tr>\n",
       "      <th>2</th>\n",
       "      <td>379121108</td>\n",
       "      <td>379119380</td>\n",
       "      <td>2022-05-23 21:42:45</td>\n",
       "      <td>CA</td>\n",
       "      <td>Canada</td>\n",
       "      <td>Dumb shill.</td>\n",
       "      <td>0.0</td>\n",
       "      <td>0.276372</td>\n",
       "      <td>96.750050</td>\n",
       "      <td>2.973569</td>\n",
       "      <td>1</td>\n",
       "    </tr>\n",
       "    <tr>\n",
       "      <th>3</th>\n",
       "      <td>379121261</td>\n",
       "      <td>379119380</td>\n",
       "      <td>2022-05-23 21:43:52</td>\n",
       "      <td>HR</td>\n",
       "      <td>Croatia</td>\n",
       "      <td>MAGA, thanks for baking</td>\n",
       "      <td>0.0</td>\n",
       "      <td>0.153533</td>\n",
       "      <td>99.307570</td>\n",
       "      <td>0.538890</td>\n",
       "      <td>1</td>\n",
       "    </tr>\n",
       "    <tr>\n",
       "      <th>4</th>\n",
       "      <td>379122427</td>\n",
       "      <td>379119380</td>\n",
       "      <td>2022-05-23 21:52:56</td>\n",
       "      <td>CA</td>\n",
       "      <td>Canada</td>\n",
       "      <td>Imagine wasting time making that.</td>\n",
       "      <td>0.0</td>\n",
       "      <td>1.027108</td>\n",
       "      <td>77.531075</td>\n",
       "      <td>21.441818</td>\n",
       "      <td>1</td>\n",
       "    </tr>\n",
       "  </tbody>\n",
       "</table>\n",
       "</div>"
      ],
      "text/plain": [
       "   post_number  thread_number            timestamp country   country_name  \\\n",
       "0    379119380              0  2022-05-23 21:30:25      CA         Canada   \n",
       "1    379119622      379119380  2022-05-23 21:32:03      US  United States   \n",
       "2    379121108      379119380  2022-05-23 21:42:45      CA         Canada   \n",
       "3    379121261      379119380  2022-05-23 21:43:52      HR        Croatia   \n",
       "4    379122427      379119380  2022-05-23 21:52:56      CA         Canada   \n",
       "\n",
       "                                             comment  reply_count  \\\n",
       "0  Casper, WYOMINGSat, May 28, 20224:00 pm MDT, 6...        199.0   \n",
       "1                         Attended by 10's of people          0.0   \n",
       "2                                        Dumb shill.          0.0   \n",
       "3                            MAGA, thanks for baking          0.0   \n",
       "4                  Imagine wasting time making that.          0.0   \n",
       "\n",
       "   hate_speech     normal  offensive  label  \n",
       "0     0.154330  99.736800   0.108877      1  \n",
       "1     0.318119  98.489525   1.192354      1  \n",
       "2     0.276372  96.750050   2.973569      1  \n",
       "3     0.153533  99.307570   0.538890      1  \n",
       "4     1.027108  77.531075  21.441818      1  "
      ]
     },
     "execution_count": 27,
     "metadata": {},
     "output_type": "execute_result"
    }
   ],
   "source": [
    "polfinal.head()"
   ]
  },
  {
   "cell_type": "code",
   "execution_count": 28,
   "id": "fac133d9",
   "metadata": {
    "ExecuteTime": {
     "end_time": "2022-08-03T13:29:18.105394Z",
     "start_time": "2022-08-03T13:29:18.061411Z"
    }
   },
   "outputs": [
    {
     "data": {
      "text/plain": [
       "United States     222684\n",
       "Unknown            43700\n",
       "United Kingdom     27172\n",
       "Canada             27009\n",
       "Australia          16334\n",
       "                   ...  \n",
       "Gibraltar              1\n",
       "South Sudan            1\n",
       "North Korea            1\n",
       "Cayman Islands         1\n",
       "Nicaragua              1\n",
       "Name: country_name, Length: 156, dtype: int64"
      ]
     },
     "execution_count": 28,
     "metadata": {},
     "output_type": "execute_result"
    }
   ],
   "source": [
    "# Value counts of the volume of posts per country\n",
    "polfinal['country_name'].value_counts()"
   ]
  },
  {
   "cell_type": "code",
   "execution_count": 29,
   "id": "2cba713a",
   "metadata": {
    "ExecuteTime": {
     "end_time": "2022-08-03T13:29:18.338250Z",
     "start_time": "2022-08-03T13:29:18.110382Z"
    }
   },
   "outputs": [
    {
     "data": {
      "text/plain": [
       "<AxesSubplot:ylabel='country_name'>"
      ]
     },
     "execution_count": 29,
     "metadata": {},
     "output_type": "execute_result"
    },
    {
     "data": {
      "image/png": "[encoded data removed]",
      "text/plain": [
       "<Figure size 432x432 with 1 Axes>"
      ]
     },
     "metadata": {},
     "output_type": "display_data"
    }
   ],
   "source": [
    "# Value counts of the volume of posts for the top 10 countries\n",
    "polfinal['country_name'].value_counts()[:10].plot(kind='pie', figsize=(6,6))\n",
    "plt.show()"
   ]
  },
  {
   "cell_type": "code",
   "execution_count": 30,
   "id": "5f15076f",
   "metadata": {
    "ExecuteTime": {
     "end_time": "2022-08-03T13:29:18.385226Z",
     "start_time": "2022-08-03T13:29:18.342248Z"
    }
   },
   "outputs": [
    {
     "data": {
      "text/plain": [
       "0.8263721643984782"
      ]
     },
     "execution_count": 30,
     "metadata": {},
     "output_type": "execute_result"
    }
   ],
   "source": [
    "# Percentage of message volume originating from the top 10 countries\n",
    "polfinal['country_name'].value_counts()[:10].sum() / pol.shape[0]"
   ]
  },
  {
   "cell_type": "code",
   "execution_count": 31,
   "id": "b5f64684",
   "metadata": {
    "ExecuteTime": {
     "end_time": "2022-08-03T13:29:18.975458Z",
     "start_time": "2022-08-03T13:29:18.873518Z"
    }
   },
   "outputs": [
    {
     "data": {
      "text/plain": [
       "<AxesSubplot:ylabel='label'>"
      ]
     },
     "execution_count": 31,
     "metadata": {},
     "output_type": "execute_result"
    },
    {
     "data": {
      "image/png": "[encoded data removed]",
      "text/plain": [
       "<Figure size 432x432 with 1 Axes>"
      ]
     },
     "metadata": {},
     "output_type": "display_data"
    }
   ],
   "source": [
    "# Distribution of each speech type\n",
    "polfinal['label'].value_counts().plot(kind='pie', figsize=(6,6))\n",
    "plt.show()"
   ]
  },
  {
   "cell_type": "code",
   "execution_count": 32,
   "id": "69720fbb",
   "metadata": {
    "ExecuteTime": {
     "end_time": "2022-08-03T13:29:21.048299Z",
     "start_time": "2022-08-03T13:29:21.039294Z"
    }
   },
   "outputs": [
    {
     "data": {
      "text/plain": [
       "{0: 'hate speech', 1: 'normal', 2: 'offensive'}"
      ]
     },
     "execution_count": 32,
     "metadata": {},
     "output_type": "execute_result"
    }
   ],
   "source": [
    "# Reconfirmation of the model's labels\n",
    "model.config.id2label"
   ]
  },
  {
   "cell_type": "code",
   "execution_count": 33,
   "id": "4ceecd88",
   "metadata": {
    "ExecuteTime": {
     "end_time": "2022-08-03T13:29:21.500699Z",
     "start_time": "2022-08-03T13:29:21.463718Z"
    }
   },
   "outputs": [
    {
     "data": {
      "text/plain": [
       "0.2960419580112535"
      ]
     },
     "execution_count": 33,
     "metadata": {},
     "output_type": "execute_result"
    }
   ],
   "source": [
    "# Percentage of messages that are either offensive or hateful\n",
    "polfinal[polfinal['label'] != 1].shape[0] / polfinal.shape[0]"
   ]
  }
 ],
 "metadata": {
  "kernelspec": {
   "display_name": "Python 3 (ipykernel)",
   "language": "python",
   "name": "python3"
  },
  "language_info": {
   "codemirror_mode": {
    "name": "ipython",
    "version": 3
   },
   "file_extension": ".py",
   "mimetype": "text/x-python",
   "name": "python",
   "nbconvert_exporter": "python",
   "pygments_lexer": "ipython3",
   "version": "3.9.12"
  }
 },
 "nbformat": 4,
 "nbformat_minor": 5
}
